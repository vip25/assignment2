{
 "cells": [
  {
   "cell_type": "markdown",
   "metadata": {},
   "source": [
    "# python2 assignment"
   ]
  },
  {
   "cell_type": "markdown",
   "metadata": {},
   "source": [
    "# Python programme to reverse the string "
   ]
  },
  {
   "cell_type": "code",
   "execution_count": 1,
   "metadata": {},
   "outputs": [
    {
     "name": "stdout",
     "output_type": "stream",
     "text": [
      "enter the string inueron\n",
      "noreuni\n"
     ]
    }
   ],
   "source": [
    "# programme 2  \n",
    "inputstring = input(\"enter the string \")\n",
    "print(inputstring[::-1])"
   ]
  },
  {
   "cell_type": "code",
   "execution_count": null,
   "metadata": {},
   "outputs": [],
   "source": [
    "# programme 1 create below Pattern by using nesting loop"
   ]
  },
  {
   "cell_type": "code",
   "execution_count": 25,
   "metadata": {},
   "outputs": [
    {
     "name": "stdout",
     "output_type": "stream",
     "text": [
      "* \n",
      "\n",
      "* * \n",
      "\n",
      "* * * \n",
      "\n",
      "* * * * \n",
      "\n",
      "* * * * * \n",
      "\n",
      "* * * * \n",
      "\n",
      "* * * \n",
      "\n",
      "* * \n",
      "\n",
      "* \n",
      "\n"
     ]
    }
   ],
   "source": [
    "for i in range(0,5):\n",
    "    for j in range(i+1):\n",
    "        print(\"*\",end= \" \")\n",
    "    print('\\n')\n",
    "    \n",
    "for m in range(4,0,-1):\n",
    "    \n",
    "    for t in range(m):\n",
    "        \n",
    "         print(\"*\",end = \" \")\n",
    "    print('\\n')\n",
    "        \n",
    "        \n",
    "    "
   ]
  },
  {
   "cell_type": "code",
   "execution_count": 27,
   "metadata": {},
   "outputs": [
    {
     "name": "stdout",
     "output_type": "stream",
     "text": [
      ". \r\n",
      ". . \r\n",
      ". . . \r\n"
     ]
    }
   ],
   "source": [
    "for i in range(3):\n",
    "    for j in range (i+1):\n",
    "        print(\".\", end = \" \")\n",
    "    print('\\r')\n",
    "        "
   ]
  },
  {
   "cell_type": "code",
   "execution_count": 58,
   "metadata": {},
   "outputs": [],
   "source": [
    "l = [[1,1,2,2,3,3],[2,4,2,2,5],[1,5,8,8,2]]"
   ]
  },
  {
   "cell_type": "code",
   "execution_count": 50,
   "metadata": {},
   "outputs": [],
   "source": [
    "l1 = [1,2,3,3,4]\n",
    "            "
   ]
  },
  {
   "cell_type": "code",
   "execution_count": 35,
   "metadata": {},
   "outputs": [
    {
     "name": "stdout",
     "output_type": "stream",
     "text": [
      "0\n",
      "0\n",
      "0\n",
      "0\n",
      "0\n"
     ]
    }
   ],
   "source": [
    "for i in l1:\n",
    "    count = 0\n",
    "    m = i+1\n",
    "    if(i==m):\n",
    "        count = count+1\n",
    "    "
   ]
  },
  {
   "cell_type": "code",
   "execution_count": 52,
   "metadata": {},
   "outputs": [
    {
     "name": "stdout",
     "output_type": "stream",
     "text": [
      "3 2\n",
      "3 2\n"
     ]
    }
   ],
   "source": [
    "for i in range(len(l1)):\n",
    "    count = 0\n",
    "    for j in range(i,len(l1)):\n",
    "        if(l1[i]==l1[j]):\n",
    "            count = count+1\n",
    "        if(count>1):\n",
    "            \n",
    "            print(l1[i],count)\n",
    "            \n",
    "        \n",
    "    \n",
    "    \n",
    "  \n",
    "    \n",
    "\n",
    "    "
   ]
  },
  {
   "cell_type": "code",
   "execution_count": 59,
   "metadata": {},
   "outputs": [
    {
     "name": "stdout",
     "output_type": "stream",
     "text": [
      "1 2\n",
      "2 2\n",
      "2 2\n",
      "3 2\n",
      "2 2\n",
      "4 2\n",
      "2 2\n",
      "5 2\n",
      "5 2\n",
      "8 2\n",
      "2 2\n"
     ]
    }
   ],
   "source": [
    "for i in range(len(l)):\n",
    "    count = 0\n",
    "    if type(l[i])== list:\n",
    "        \n",
    "        for m in range(len(l[i])):\n",
    "            for n in range(m,len(l[i])):\n",
    "                if(l[i][m]==l[i][n]):\n",
    "                    count= count+1\n",
    "                if(count >1):\n",
    "                    print(l[i][m],count)\n",
    "                    count= 0"
   ]
  },
  {
   "cell_type": "code",
   "execution_count": 78,
   "metadata": {},
   "outputs": [],
   "source": [
    "def CountFrequency(l):\n",
    " \n",
    "    # Creating an empty dictionary\n",
    "    freq = {}\n",
    "    \n",
    "    for item in l:\n",
    "        \n",
    "        if type(item)==list:\n",
    "            \n",
    "                \n",
    "            for m  in item:\n",
    "                \n",
    "                if (m in freq):     \n",
    "                    freq[m] += 1\n",
    "                else: \n",
    "                    freq[m] = 1\n",
    "            for key, value in freq.items():\n",
    "                if(value >1):\n",
    "                    \n",
    "\n",
    "                    \n",
    "                \n",
    "                \n",
    "                \n",
    "                    \n",
    "                    print (\"% d : % d\"%(key, value))\n",
    "                    freq={}\n",
    "    \n",
    "            "
   ]
  },
  {
   "cell_type": "code",
   "execution_count": 79,
   "metadata": {},
   "outputs": [
    {
     "name": "stdout",
     "output_type": "stream",
     "text": [
      " 1 :  2\n",
      " 2 :  2\n",
      " 3 :  2\n",
      " 2 :  3\n",
      " 8 :  2\n"
     ]
    }
   ],
   "source": [
    "CountFrequency(l)"
   ]
  },
  {
   "cell_type": "code",
   "execution_count": null,
   "metadata": {},
   "outputs": [],
   "source": [
    "for key, value in freq.items():\n",
    "                      \n",
    "            \n",
    "            \n",
    "            \n",
    "                 if(freq[key]>1):\n",
    "            \n",
    "                        print (\"% d : % d\"%(key, value))\n",
    "                        freq={}"
   ]
  }
 ],
 "metadata": {
  "kernelspec": {
   "display_name": "Python 3",
   "language": "python",
   "name": "python3"
  },
  "language_info": {
   "codemirror_mode": {
    "name": "ipython",
    "version": 3
   },
   "file_extension": ".py",
   "mimetype": "text/x-python",
   "name": "python",
   "nbconvert_exporter": "python",
   "pygments_lexer": "ipython3",
   "version": "3.8.5"
  }
 },
 "nbformat": 4,
 "nbformat_minor": 4
}
